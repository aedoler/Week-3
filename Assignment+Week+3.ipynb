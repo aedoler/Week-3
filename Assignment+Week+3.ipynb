{
 "cells": [
  {
   "cell_type": "code",
   "execution_count": 125,
   "metadata": {
    "collapsed": false
   },
   "outputs": [
    {
     "data": {
      "text/plain": [
       "Day 1       58\n",
       "Day 2       93\n",
       "Day 3      158\n",
       "Day 4      201\n",
       "Day 5      268\n",
       "Day 6      346\n",
       "Day 7      390\n",
       "Day 8      423\n",
       "Day 9      498\n",
       "Day 10     533\n",
       "Day 11     586\n",
       "Day 12     658\n",
       "Day 13     689\n",
       "Day 14     761\n",
       "Day 15     807\n",
       "Day 16     848\n",
       "Day 17     897\n",
       "Day 18     973\n",
       "Day 19    1047\n",
       "Day 20    1103\n",
       "Day 21    1180\n",
       "Day 22    1244\n",
       "Day 23    1305\n",
       "Day 24    1342\n",
       "Day 25    1401\n",
       "Day 26    1442\n",
       "dtype: int64"
      ]
     },
     "execution_count": 125,
     "metadata": {},
     "output_type": "execute_result"
    }
   ],
   "source": [
    "import random\n",
    "import pandas as pd\n",
    "\n",
    "def genMilesLog():\n",
    "    totalMiles = 1442\n",
    "    counter = 0\n",
    "    milesLeft = 1442\n",
    "    milesLog = pd.Series() # Instantiate pandas Series object\n",
    "    while milesLeft > 0:\n",
    "        distForDay = random.randrange(30,80)\n",
    "        if milesLeft - distForDay < 0:\n",
    "            distForDay = (0 - milesLeft) * -1\n",
    "        milesLeft -= distForDay\n",
    "        distForDay = pd.Series(distForDay) # In order to append to a Series, the appended item must also be a series\n",
    "        milesLog = milesLog.append(distForDay).reset_index(drop=True)\n",
    "        if len(milesLog) < 2:\n",
    "            continue\n",
    "        else:\n",
    "            counter += 1\n",
    "            milesLog[counter] = milesLog[counter] + milesLog[counter - 1]\n",
    "            \n",
    "    #Update index\n",
    "    indexCounter = 1\n",
    "    newIndex = []\n",
    "    for index in range(milesLog.size):\n",
    "        newIndex.append(\"Day \" + str(indexCounter))\n",
    "        indexCounter += 1\n",
    "    milesLog.index = newIndex\n",
    "    return milesLog\n",
    "\n",
    "genMilesLog()\n",
    "\n",
    "\n"
   ]
  },
  {
   "cell_type": "code",
   "execution_count": 126,
   "metadata": {
    "collapsed": false
   },
   "outputs": [
    {
     "name": "stdout",
     "output_type": "stream",
     "text": [
      "Day 1       73\n",
      "Day 2      136\n",
      "Day 3      191\n",
      "Day 4      263\n",
      "Day 5      341\n",
      "Day 6      413\n",
      "Day 7      479\n",
      "Day 8      539\n",
      "Day 9      616\n",
      "Day 10     661\n",
      "Day 11     702\n",
      "Day 12     762\n",
      "Day 13     811\n",
      "Day 14     889\n",
      "Day 15     946\n",
      "Day 16     996\n",
      "Day 17    1037\n",
      "Day 18    1084\n",
      "Day 19    1141\n",
      "Day 20    1209\n",
      "Day 21    1247\n",
      "Day 22    1320\n",
      "Day 23    1367\n",
      "Day 24    1433\n",
      "Day 25    1442\n",
      "dtype: int64\n"
     ]
    },
    {
     "data": {
      "text/plain": [
       "[73,\n",
       " 63,\n",
       " 55,\n",
       " 72,\n",
       " 78,\n",
       " 72,\n",
       " 66,\n",
       " 60,\n",
       " 77,\n",
       " 45,\n",
       " 41,\n",
       " 60,\n",
       " 49,\n",
       " 78,\n",
       " 57,\n",
       " 50,\n",
       " 41,\n",
       " 47,\n",
       " 57,\n",
       " 68,\n",
       " 38,\n",
       " 73,\n",
       " 47,\n",
       " 66,\n",
       " 9]"
      ]
     },
     "execution_count": 126,
     "metadata": {},
     "output_type": "execute_result"
    }
   ],
   "source": [
    "def getBreakDownByDay(logSeries):\n",
    "    print(logSeries)\n",
    "    counter2 = 0\n",
    "    milesPerDay = []\n",
    "    for day in logSeries: \n",
    "        day = day - logSeries[counter2 - 1]\n",
    "        milesPerDay.append(day)\n",
    "        counter2 += 1\n",
    "    milesPerDay[0] = logSeries[0]\n",
    "    \n",
    "    return milesPerDay\n",
    "\n",
    "logSeries = genMilesLog()\n",
    "getBreakDownByDay(logSeries)\n",
    "\n",
    "\n"
   ]
  },
  {
   "cell_type": "code",
   "execution_count": null,
   "metadata": {
    "collapsed": true
   },
   "outputs": [],
   "source": []
  }
 ],
 "metadata": {
  "kernelspec": {
   "display_name": "Python 3",
   "language": "python",
   "name": "python3"
  },
  "language_info": {
   "codemirror_mode": {
    "name": "ipython",
    "version": 3
   },
   "file_extension": ".py",
   "mimetype": "text/x-python",
   "name": "python",
   "nbconvert_exporter": "python",
   "pygments_lexer": "ipython3",
   "version": "3.5.2"
  }
 },
 "nbformat": 4,
 "nbformat_minor": 2
}
